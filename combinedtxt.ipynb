{
  "cells": [
    {
      "cell_type": "code",
      "metadata": {
        "id": "Uk92VKbeetg7"
      },
      "source": [
        "import glob\n",
        "read_files = glob.glob(\"/content/drive/MyDrive/FINAL PROJECT/POLORITY/txt_sentoken/neg/*.txt\")\n",
        "with open(\"neg.txt\", \"wb\") as outfile:\n",
        "    for f in read_files:\n",
        "        with open(f, \"rb\") as infile:\n",
        "            outfile.write(infile.read())"
      ],
      "outputs": [],
      "execution_count": 3
    },
    {
      "cell_type": "code",
      "source": [
        "import glob\n",
        "read_files = glob.glob(\"/content/drive/MyDrive/FINAL PROJECT/POLORITY/txt_sentoken/pos/*.txt\")\n",
        "with open(\"pos.txt\", \"wb\") as outfile:\n",
        "    for f in read_files:\n",
        "        with open(f, \"rb\") as infile:\n",
        "            outfile.write(infile.read())"
      ],
      "metadata": {
        "id": "D6siqsXyg-Fk"
      },
      "execution_count": 4,
      "outputs": []
    },
    {
      "cell_type": "code",
      "source": [
        "from google.colab import drive\n",
        "drive.mount('/content/drive')"
      ],
      "metadata": {
        "colab": {
          "base_uri": "https://localhost:8080/"
        },
        "id": "-PS-HqrRfjb-",
        "outputId": "b65e8c17-fd1e-4362-de40-fd7b1ccff302"
      },
      "execution_count": null,
      "outputs": [
        {
          "output_type": "stream",
          "name": "stdout",
          "text": [
            "Drive already mounted at /content/drive; to attempt to forcibly remount, call drive.mount(\"/content/drive\", force_remount=True).\n"
          ]
        }
      ]
    },
    {
      "cell_type": "code",
      "source": [],
      "metadata": {
        "id": "tkdfvfGufnYL"
      },
      "execution_count": null,
      "outputs": []
    }
  ],
  "metadata": {
    "anaconda-cloud": {},
    "kernelspec": {
      "display_name": "Python 3",
      "language": "python",
      "name": "python3"
    },
    "language_info": {
      "codemirror_mode": {
        "name": "ipython",
        "version": 3
      },
      "file_extension": ".py",
      "mimetype": "text/x-python",
      "name": "python",
      "nbconvert_exporter": "python",
      "pygments_lexer": "ipython3",
      "version": "3.6.1"
    },
    "colab": {
      "provenance": []
    }
  },
  "nbformat": 4,
  "nbformat_minor": 0
}